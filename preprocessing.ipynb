{
 "cells": [
  {
   "cell_type": "code",
   "execution_count": 1,
   "metadata": {},
   "outputs": [],
   "source": [
    "import pandas as pd\n",
    "from nltk.corpus import stopwords\n",
    "import re"
   ]
  },
  {
   "cell_type": "code",
   "execution_count": 29,
   "metadata": {},
   "outputs": [],
   "source": [
    "df = pd.read_csv('sochi.csv', index_col=0)"
   ]
  },
  {
   "cell_type": "code",
   "execution_count": 25,
   "metadata": {},
   "outputs": [
    {
     "data": {
      "text/html": [
       "<div>\n",
       "<style scoped>\n",
       "    .dataframe tbody tr th:only-of-type {\n",
       "        vertical-align: middle;\n",
       "    }\n",
       "\n",
       "    .dataframe tbody tr th {\n",
       "        vertical-align: top;\n",
       "    }\n",
       "\n",
       "    .dataframe thead th {\n",
       "        text-align: right;\n",
       "    }\n",
       "</style>\n",
       "<table border=\"1\" class=\"dataframe\">\n",
       "  <thead>\n",
       "    <tr style=\"text-align: right;\">\n",
       "      <th></th>\n",
       "      <th>mark</th>\n",
       "      <th>review_text</th>\n",
       "      <th>date</th>\n",
       "    </tr>\n",
       "  </thead>\n",
       "  <tbody>\n",
       "    <tr>\n",
       "      <th>0</th>\n",
       "      <td>1</td>\n",
       "      <td>\\nТуалеты на набережной Сервис Сочи оставляет ...</td>\n",
       "      <td>14 апреля 2023</td>\n",
       "    </tr>\n",
       "    <tr>\n",
       "      <th>1</th>\n",
       "      <td>6</td>\n",
       "      <td>\\nЕсли нет возможности отдохнуть в Турции Отды...</td>\n",
       "      <td>31 октября 2022</td>\n",
       "    </tr>\n",
       "    <tr>\n",
       "      <th>2</th>\n",
       "      <td>1</td>\n",
       "      <td>\\nХозяин ГД Лиза - непорядочно поступает!!!! Г...</td>\n",
       "      <td>28 сентября 2022</td>\n",
       "    </tr>\n",
       "    <tr>\n",
       "      <th>3</th>\n",
       "      <td>2</td>\n",
       "      <td>\\nПри поездке запаситесь регидроном, полисорбо...</td>\n",
       "      <td>25 сентября 2022</td>\n",
       "    </tr>\n",
       "    <tr>\n",
       "      <th>4</th>\n",
       "      <td>1</td>\n",
       "      <td>\\nМрак! Ужасный город. Постоянно отключают вод...</td>\n",
       "      <td>23 сентября 2022</td>\n",
       "    </tr>\n",
       "  </tbody>\n",
       "</table>\n",
       "</div>"
      ],
      "text/plain": [
       "   mark                                        review_text              date\n",
       "0     1  \\nТуалеты на набережной Сервис Сочи оставляет ...    14 апреля 2023\n",
       "1     6  \\nЕсли нет возможности отдохнуть в Турции Отды...   31 октября 2022\n",
       "2     1  \\nХозяин ГД Лиза - непорядочно поступает!!!! Г...  28 сентября 2022\n",
       "3     2  \\nПри поездке запаситесь регидроном, полисорбо...  25 сентября 2022\n",
       "4     1  \\nМрак! Ужасный город. Постоянно отключают вод...  23 сентября 2022"
      ]
     },
     "execution_count": 25,
     "metadata": {},
     "output_type": "execute_result"
    }
   ],
   "source": [
    "df.head()"
   ]
  },
  {
   "cell_type": "code",
   "execution_count": 4,
   "metadata": {},
   "outputs": [],
   "source": [
    "def remove_stopwords(text: str) -> str:\n",
    "    russian_stopwords = stopwords.words(\"russian\")\n",
    "    russian_stopwords = [\n",
    "        word for word in russian_stopwords if word not in (\"не\", \"нет\", \"да\")\n",
    "    ]\n",
    "    tokens = [word for word in text.split(\" \") if word not in russian_stopwords]\n",
    "    text = \" \".join(tokens)\n",
    "    return text\n",
    "\n",
    "def preprocess(x):\n",
    "    \n",
    "    x = x.lower()\n",
    "    \n",
    "    # Удаление html тегов\n",
    "    x = re.sub(\"(<.*?>)\", \" \", x)\n",
    "    x = re.sub('(«|»|\")', \" \", x)\n",
    "    \n",
    "    # ссылки\n",
    "    x = re.sub(\n",
    "        r\"((https?):((//)|(\\\\\\\\))+([<?>?\\w\\d:#@%/;$()~_?\\+-=\\\\\\.&…](#!)?)*)\",\n",
    "        \"\",\n",
    "        x,\n",
    "    )\n",
    "    \n",
    "    x = re.sub(\"\\s+\", \" \", x)\n",
    "    \n",
    "    x = remove_stopwords(x)\n",
    "    \n",
    "    x = re.sub(\"_\\(\\)\", \" \", x)\n",
    "    \n",
    "    return x\n",
    "    "
   ]
  },
  {
   "cell_type": "code",
   "execution_count": 55,
   "metadata": {},
   "outputs": [],
   "source": [
    "df.review_text = df.review_text.map(lambda x: preprocess(x))"
   ]
  },
  {
   "cell_type": "code",
   "execution_count": 5,
   "metadata": {},
   "outputs": [],
   "source": [
    "import os\n",
    "\n",
    "for file in os.listdir('data'):\n",
    "    if os.path.isdir(f'data/{file}'): continue\n",
    "    clean = pd.read_csv(f'data/{file}', index_col=0)\n",
    "    clean.review_text = clean.review_text.map(lambda x: preprocess(x))\n",
    "    clean.to_csv(f'data/clean/{file[:file.find(\".\")]}.csv')"
   ]
  },
  {
   "cell_type": "code",
   "execution_count": 6,
   "metadata": {},
   "outputs": [],
   "source": [
    "clean_files = os.listdir('data/clean')\n",
    "final = pd.read_csv(f'data/clean/{clean_files[0]}', index_col=0)\n",
    "\n",
    "for file in clean_files[1:]:\n",
    "    temp = pd.read_csv(f'data/clean/{file}', index_col=0)\n",
    "    final = pd.concat([final, temp], ignore_index=True)"
   ]
  },
  {
   "cell_type": "code",
   "execution_count": 7,
   "metadata": {},
   "outputs": [
    {
     "data": {
      "text/plain": [
       "(3778, 3)"
      ]
     },
     "execution_count": 7,
     "metadata": {},
     "output_type": "execute_result"
    }
   ],
   "source": [
    "final.shape"
   ]
  },
  {
   "cell_type": "code",
   "execution_count": 8,
   "metadata": {},
   "outputs": [],
   "source": [
    "final.to_csv('dataset.csv')"
   ]
  },
  {
   "cell_type": "code",
   "execution_count": 11,
   "metadata": {},
   "outputs": [],
   "source": [
    "vocab_data = os.listdir('data/vocab_data/')\n",
    "\n",
    "for file in vocab_data:\n",
    "    if os.path.isdir(f'data/vocab_data/{file}'): continue\n",
    "    clean = pd.read_csv(f'data/vocab_data/{file}', index_col=0)\n",
    "    clean.review_text = clean.review_text.map(lambda x: preprocess(x))\n",
    "    clean.to_csv(f'data/vocab_data/clean/{file[:file.find(\".\")]}.csv')\n"
   ]
  },
  {
   "cell_type": "code",
   "execution_count": 23,
   "metadata": {},
   "outputs": [
    {
     "name": "stdout",
     "output_type": "stream",
     "text": [
      "kislovods.csv\n",
      "krasnodarskiy_kray.csv\n",
      "minvod.csv\n",
      "moscow.csv\n",
      "result_tonkosti.csv\n",
      "sochi.csv\n"
     ]
    }
   ],
   "source": [
    "clean_files = os.listdir('data/clean/')\n",
    "clean_vocab = os.listdir('data/vocab_data/clean/')\n",
    "\n",
    "vocab_dataset = pd.read_csv(f'data/clean/{clean_files[0]}', index_col=0).drop(columns=['mark'])\n",
    "\n",
    "for file in clean_files[1:]:\n",
    "    print(file)\n",
    "    temp = pd.read_csv(f'data/clean/{file}', index_col=0).drop(columns=['mark'])\n",
    "    vocab_dataset = pd.concat([vocab_dataset, temp], ignore_index=True)\n",
    "\n",
    "for file in clean_vocab:\n",
    "    temp = pd.read_csv(f'data/vocab_data/clean/{file}', index_col=0)\n",
    "    vocab_dataset = pd.concat([vocab_dataset, temp], ignore_index=True)\n",
    "    \n",
    "\n",
    "    "
   ]
  },
  {
   "cell_type": "code",
   "execution_count": 25,
   "metadata": {},
   "outputs": [],
   "source": [
    "vocab_dataset.to_csv('vocab_dataset.csv')"
   ]
  },
  {
   "cell_type": "code",
   "execution_count": null,
   "metadata": {},
   "outputs": [],
   "source": []
  }
 ],
 "metadata": {
  "kernelspec": {
   "display_name": "Python 3 (ipykernel)",
   "language": "python",
   "name": "python3"
  },
  "language_info": {
   "codemirror_mode": {
    "name": "ipython",
    "version": 3
   },
   "file_extension": ".py",
   "mimetype": "text/x-python",
   "name": "python",
   "nbconvert_exporter": "python",
   "pygments_lexer": "ipython3",
   "version": "3.10.9"
  },
  "orig_nbformat": 4
 },
 "nbformat": 4,
 "nbformat_minor": 2
}
